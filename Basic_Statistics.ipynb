{
 "cells": [
  {
   "cell_type": "code",
   "execution_count": 1,
   "metadata": {},
   "outputs": [],
   "source": [
    "# In this notebok we will discuss central tendencies for datasets"
   ]
  },
  {
   "cell_type": "code",
   "execution_count": 2,
   "metadata": {},
   "outputs": [],
   "source": [
    "# Suppose we some data, for understanding purpose we will assume 1-dimensional data"
   ]
  },
  {
   "cell_type": "code",
   "execution_count": 45,
   "metadata": {},
   "outputs": [],
   "source": [
    "%matplotlib inline\n",
    "import numpy as np\n",
    "import matplotlib\n",
    "import matplotlib.pyplot as plt\n"
   ]
  },
  {
   "cell_type": "code",
   "execution_count": 4,
   "metadata": {},
   "outputs": [],
   "source": [
    "data =np. array([10,20,5,30,60,10,40,35,25,17,23,41,33,20])"
   ]
  },
  {
   "cell_type": "code",
   "execution_count": 5,
   "metadata": {},
   "outputs": [],
   "source": [
    "# MEAN."
   ]
  },
  {
   "cell_type": "code",
   "execution_count": 6,
   "metadata": {},
   "outputs": [
    {
     "name": "stdout",
     "output_type": "stream",
     "text": [
      "26.357142857142858\n"
     ]
    }
   ],
   "source": [
    "def mean(data):\n",
    "    return np.mean(data)\n",
    "\n",
    "mean_val = mean(data)\n",
    "print(mean_val)"
   ]
  },
  {
   "cell_type": "code",
   "execution_count": 7,
   "metadata": {},
   "outputs": [
    {
     "name": "stdout",
     "output_type": "stream",
     "text": [
      "New mean after adding a new datapoint:  37.93333333333333\n"
     ]
    }
   ],
   "source": [
    "#Let's say we introduce one more datapoint whose value is 200. Again calculate the mean.\n",
    "new_data = data \n",
    "new_data = np.append(new_data,200)\n",
    "new_mean = np.mean(new_data)\n",
    "print(\"New mean after adding a new datapoint: \",new_mean)"
   ]
  },
  {
   "cell_type": "code",
   "execution_count": 8,
   "metadata": {},
   "outputs": [],
   "source": [
    "#Percentage increase in mean after adding one datapoint"
   ]
  },
  {
   "cell_type": "code",
   "execution_count": 9,
   "metadata": {},
   "outputs": [
    {
     "name": "stdout",
     "output_type": "stream",
     "text": [
      "Percent increase in mean after adding one datapoint(outlier):  43.92050587172537 %\n"
     ]
    }
   ],
   "source": [
    "def percent_increase(new_val,old_val):\n",
    "    return ((new_val-old_val)*100/old_val)\n",
    "\n",
    "percent_inc = percent_increase(new_mean, mean_val)\n",
    "print(\"Percent increase in mean after adding one datapoint(outlier): \",percent_inc,\"%\")"
   ]
  },
  {
   "cell_type": "code",
   "execution_count": 10,
   "metadata": {},
   "outputs": [],
   "source": [
    "#observations from the above example\n",
    "#1. Mean is dependent on every data point of the dataset.\n",
    "#2. If the dataset have some outliers then it may give a misleading picture about the dataset\n",
    "\n",
    "#If a dataset has outliers and they are bad datapoints then mean can convey a wrong idea about the dataset."
   ]
  },
  {
   "cell_type": "code",
   "execution_count": 11,
   "metadata": {},
   "outputs": [],
   "source": [
    "#Median\n",
    "#Median is the middle most value(if datapoints are sorted) or average of two middle most values\n",
    "#(if number of datapoints are even) afer sorting the datapoints."
   ]
  },
  {
   "cell_type": "code",
   "execution_count": 12,
   "metadata": {},
   "outputs": [
    {
     "name": "stdout",
     "output_type": "stream",
     "text": [
      "median value:  24\n"
     ]
    }
   ],
   "source": [
    "def median(data):\n",
    "    n =len(data)\n",
    "    sorted_data = sorted(data)\n",
    "    midpoint = n//2\n",
    "    if n%2==1:\n",
    "        return sorted_data[midpoint]\n",
    "    else:\n",
    "        lo = midpoint - 1\n",
    "        hi = midpoint\n",
    "        return (sorted_data[lo]+sorted_data[hi])//2\n",
    "\n",
    "median_val = median(data)\n",
    "print(\"median value: \",median_val)"
   ]
  },
  {
   "cell_type": "code",
   "execution_count": 13,
   "metadata": {},
   "outputs": [],
   "source": [
    "#supose we add one data point 200(an outlier) just as we did in case of mean"
   ]
  },
  {
   "cell_type": "code",
   "execution_count": 14,
   "metadata": {},
   "outputs": [
    {
     "name": "stdout",
     "output_type": "stream",
     "text": [
      "new median value:  25\n"
     ]
    }
   ],
   "source": [
    "new_median_val = median(new_data)\n",
    "print(\"new median value: \",new_median_val)"
   ]
  },
  {
   "cell_type": "code",
   "execution_count": 15,
   "metadata": {},
   "outputs": [
    {
     "name": "stdout",
     "output_type": "stream",
     "text": [
      "Percent increase in median after adding one datapoint(outlier):  4.166666666666667 %\n"
     ]
    }
   ],
   "source": [
    "percent_inc = percent_increase(new_median_val,median_val)\n",
    "print(\"Percent increase in median after adding one datapoint(outlier): \",percent_inc,\"%\")"
   ]
  },
  {
   "cell_type": "code",
   "execution_count": 16,
   "metadata": {},
   "outputs": [],
   "source": [
    "#As you can see from the above, the median doesn't change much from the addition of an \n",
    "#outlier because median doesn't depend on every datapoint"
   ]
  },
  {
   "cell_type": "code",
   "execution_count": 17,
   "metadata": {},
   "outputs": [
    {
     "name": "stdout",
     "output_type": "stream",
     "text": [
      "value less than which 10 percentile data lies:  10\n",
      "value less than which 25 percentile data lies:  17\n",
      "value less than which 50 percentile data lies:  25\n",
      "value less than which 75 percentile data lies:  35\n"
     ]
    }
   ],
   "source": [
    "#Generealizaion of mean is quantile, which represents a value less than which a certain percentile of data lies.\n",
    "#For example: the median represents the value less than which 50% of data lies\n",
    "def quantile(data,pth_percentile):\n",
    "    p_index = int(len(data)*pth_percentile)\n",
    "    return sorted(data)[p_index]\n",
    "\n",
    "print(\"value less than which 10 percentile data lies: \",quantile(data,.1))\n",
    "print(\"value less than which 25 percentile data lies: \",quantile(data,.25))\n",
    "print(\"value less than which 50 percentile data lies: \",quantile(data,.5))\n",
    "print(\"value less than which 75 percentile data lies: \",quantile(data,.75))"
   ]
  },
  {
   "cell_type": "code",
   "execution_count": 18,
   "metadata": {},
   "outputs": [
    {
     "name": "stdout",
     "output_type": "stream",
     "text": [
      "mode of data is:  [10, 20]\n"
     ]
    }
   ],
   "source": [
    "from collections import Counter\n",
    "#mode is also a central tendency for most common values.\n",
    "def mode_(data):\n",
    "    counts = Counter(data)\n",
    "    max_count = max(counts.values())\n",
    "    return [mode_val for mode_val,count in counts.items() if count==max_count]\n",
    "\n",
    "print(\"mode of data is: \",mode_(data))"
   ]
  },
  {
   "cell_type": "code",
   "execution_count": 19,
   "metadata": {},
   "outputs": [
    {
     "name": "stdout",
     "output_type": "stream",
     "text": [
      "Dispersion of data:  55\n"
     ]
    }
   ],
   "source": [
    "#Next we will learn about Dispersion\n",
    "#Dispersion refers to how spread out our data is.\n",
    "#There are some statisticsmeasures in which values near zero signify not spread out at all. \n",
    "#And for large values it means very spread out.\n",
    "#For example, a simple measure for dispersion can be difference between largest and smallest elements.\n",
    "def data_dispersion(data):\n",
    "    return max(data)-min(data)\n",
    "\n",
    "print(\"Dispersion of data: \",data_dispersion(data))"
   ]
  },
  {
   "cell_type": "code",
   "execution_count": 20,
   "metadata": {},
   "outputs": [],
   "source": [
    "#This is not a good measue as you can see if our data has only 0 and 100 and \n",
    "#another data has 0, 50 and 100 values only than both will have same data range and hence the same dispersion "
   ]
  },
  {
   "cell_type": "code",
   "execution_count": 21,
   "metadata": {},
   "outputs": [
    {
     "name": "stdout",
     "output_type": "stream",
     "text": [
      "Variance of data:  218.2472527472528\n"
     ]
    }
   ],
   "source": [
    "#Another measure for dispersion is variance\n",
    "def variance(data):\n",
    "    x_bar = mean(data)\n",
    "    diff = [(xi-x_bar)**2 for xi in data]\n",
    "    return np.sum(diff)/(len(data)-1)\n",
    "\n",
    "print(\"Variance of data: \",variance(data))"
   ]
  },
  {
   "cell_type": "code",
   "execution_count": 22,
   "metadata": {},
   "outputs": [],
   "source": [
    "# This looks like it is almost the average squared deviation from the mean, except that we’re dividing by n-1\n",
    "# instead of n . In fact, when we’re dealing with a sample from a larger population, x_bar is only an estimate\n",
    "# of the actual mean, which means that on average (x_i - x_bar) ** 2 is an underestimate of x_i ’s squared\n",
    "# deviation from the mean, which is why we divide by n-1 instead of n\n",
    "\n",
    "# Variance has the units that are square of the original units, so in orde to have same units as other\n",
    "# central tendency, we will use standard deviation which is square root of variance"
   ]
  },
  {
   "cell_type": "code",
   "execution_count": 23,
   "metadata": {},
   "outputs": [
    {
     "name": "stdout",
     "output_type": "stream",
     "text": [
      "Standard deviation of data:  14.773193721983503\n"
     ]
    }
   ],
   "source": [
    "def standard_Deviation(data):\n",
    "    return np.sqrt(variance(data))\n",
    "\n",
    "sd = standard_Deviation(data)\n",
    "print(\"Standard deviation of data: \",standard_Deviation(data))"
   ]
  },
  {
   "cell_type": "code",
   "execution_count": 24,
   "metadata": {},
   "outputs": [
    {
     "name": "stdout",
     "output_type": "stream",
     "text": [
      "Standard deviation of new data:  47.040205700878396\n",
      "Percent increase in standard deviation after adding one datapoint(outlier):  218.41595382912644 %\n"
     ]
    }
   ],
   "source": [
    "# Standard deviation also has a outlier problem as seen in the mean.\n",
    "# For example, if we have a datapoint having value 200 in the dataset\n",
    "new_sd = standard_Deviation(new_data)\n",
    "print(\"Standard deviation of new data: \",new_sd)\n",
    "print(\"Percent increase in standard deviation after adding one datapoint(outlier): \",percent_increase(new_sd,sd),\"%\")"
   ]
  },
  {
   "cell_type": "code",
   "execution_count": 25,
   "metadata": {},
   "outputs": [
    {
     "name": "stdout",
     "output_type": "stream",
     "text": [
      "Interquartile between .75th and .25th percentile:  18\n",
      "Interquartile between .75th and .25th percentile with an outiler datapoint:  23\n",
      "Percent increase in standard deviation after adding one datapoint(outlier):  27.77777777777778 %\n"
     ]
    }
   ],
   "source": [
    "# A more robust alternative computes the difference between the 75th percentile value and the 25th percentile value\n",
    "def interquartile_range(data):\n",
    "    return quantile(data,.75) - quantile(data,.25)\n",
    "\n",
    "print(\"Interquartile between .75th and .25th percentile: \",interquartile_range(data))\n",
    "\n",
    "print(\"Interquartile between .75th and .25th percentile with an outiler datapoint: \",interquartile_range(new_data))\n",
    "print(\"Percent increase in standard deviation after adding one datapoint(outlier): \",\n",
    "      percent_increase(interquartile_range(new_data),interquartile_range(data)),\"%\")"
   ]
  },
  {
   "cell_type": "code",
   "execution_count": 26,
   "metadata": {},
   "outputs": [],
   "source": [
    "#COVARIANCE\n",
    "#Covariance measures how two variables vary in tandem from their means\n",
    "def de_mean(data):\n",
    "    x_bar = mean(data)\n",
    "    diff = [(xi-x_bar) for xi in data]\n",
    "    return diff\n",
    "    \n",
    "def covariance(x,y):\n",
    "    n = len(x)\n",
    "    return np.dot(de_mean(x),de_mean(y))/(n-1)"
   ]
  },
  {
   "cell_type": "code",
   "execution_count": 47,
   "metadata": {},
   "outputs": [
    {
     "name": "stdout",
     "output_type": "stream",
     "text": [
      "Covariance of x and y:  23.21428571428571\n"
     ]
    }
   ],
   "source": [
    "# Now suppose, we have 2 variables x and y.\n",
    "# x represents number of friends a person have on social media\n",
    "# y represents number of minutes he/she spent on social media\n",
    "x = [4,6,2,10,15,7,9]\n",
    "y = [3,5,1,12,17,6,8]\n",
    "print(\"Covariance of x and y: \",covariance(x,y))"
   ]
  },
  {
   "cell_type": "code",
   "execution_count": 28,
   "metadata": {},
   "outputs": [],
   "source": [
    "# If covariance has large positive value it means that x tends to be large when y is large.\n",
    "# If covariance has large negative value it means that x tends to be large when y is small and vice-versa.\n",
    "# if covariance is closer to zero means, it means no such relationship exists between x and y\n",
    "\n",
    "# There are certain issues with covariance\n",
    "# For instance, if we double the value of x and y then the covariance will be doubled,\n",
    "# but in sense x and y would be just as interrelated as before.\n",
    "\n",
    "# To overcome this problem, correlation can be used."
   ]
  },
  {
   "cell_type": "code",
   "execution_count": 29,
   "metadata": {},
   "outputs": [],
   "source": [
    "def correlation(x,y):\n",
    "    std_x = standard_Deviation(x)\n",
    "    std_y = standard_Deviation(y)\n",
    "    if std_x>0 and std_y >0:\n",
    "        return covariance(x,y)/(std_x*std_y)\n",
    "    return 0"
   ]
  },
  {
   "cell_type": "code",
   "execution_count": 48,
   "metadata": {},
   "outputs": [
    {
     "name": "stdout",
     "output_type": "stream",
     "text": [
      "Correlation of x and y:  0.9864622039565963\n"
     ]
    }
   ],
   "source": [
    "print(\"Correlation of x and y: \",correlation(x,y))"
   ]
  },
  {
   "cell_type": "code",
   "execution_count": 53,
   "metadata": {},
   "outputs": [
    {
     "data": {
      "image/png": "[encoded data removed]",
      "text/plain": [
       "<Figure size 432x288 with 1 Axes>"
      ]
     },
     "metadata": {},
     "output_type": "display_data"
    }
   ],
   "source": [
    "plt.scatter(x,y)\n",
    "plt.xlabel(\"variable x\")\n",
    "plt.ylabel(\"variable y\")\n",
    "plt.show()"
   ]
  },
  {
   "cell_type": "code",
   "execution_count": null,
   "metadata": {},
   "outputs": [],
   "source": [
    "# Correlation value is between -1 and 1\n",
    "# -1 = perfect anti-correlation\n",
    "# 1 = perfect correlation\n",
    "# 0 = no correlation\n",
    "# Correlations are very sensitive to outlier"
   ]
  },
  {
   "cell_type": "code",
   "execution_count": 52,
   "metadata": {},
   "outputs": [
    {
     "name": "stdout",
     "output_type": "stream",
     "text": [
      "[4, 6, 2, 10, 15, 7, 9] [3, 5, 1, 12, 17, 6, 8]\n"
     ]
    }
   ],
   "source": []
  },
  {
   "cell_type": "code",
   "execution_count": 54,
   "metadata": {},
   "outputs": [
    {
     "name": "stdout",
     "output_type": "stream",
     "text": [
      "Correlation of x and y with outliers:  0.3003496094551851\n"
     ]
    }
   ],
   "source": [
    "# lets add outliers to our dataset\n",
    "new_x = np.append(x,20)\n",
    "new_y = np.append(y,1)\n",
    "print(\"Correlation of x and y with outliers: \",correlation(new_x,new_y))"
   ]
  },
  {
   "cell_type": "code",
   "execution_count": 55,
   "metadata": {},
   "outputs": [
    {
     "data": {
      "image/png": "[encoded data removed]",
      "text/plain": [
       "<Figure size 432x288 with 1 Axes>"
      ]
     },
     "metadata": {},
     "output_type": "display_data"
    }
   ],
   "source": [
    "plt.scatter(new_x,new_y)\n",
    "plt.xlabel(\"variable x\")\n",
    "plt.ylabel(\"variable y\")\n",
    "plt.show()"
   ]
  },
  {
   "cell_type": "code",
   "execution_count": 58,
   "metadata": {},
   "outputs": [
    {
     "name": "stdout",
     "output_type": "stream",
     "text": [
      "Correlation : 0.0\n"
     ]
    }
   ],
   "source": [
    "# Correlation may give you misleading results if we don't know our cofounding variables well. Simpson's paradox is\n",
    "# one such scenario.\n",
    "# In some scenarios, it may happen that the variables have a relationship and the correlation is zero.\n",
    "#For example, \n",
    "x1 = [-2,-1,0,1,2] \n",
    "y1 = [2,1,0,1,2]\n",
    "print('Correlation :',correlation(x1,y1))"
   ]
  },
  {
   "cell_type": "code",
   "execution_count": 59,
   "metadata": {},
   "outputs": [],
   "source": [
    "# Here the correlation is zero, but we can see that y = |x|\n",
    "# Correlation captures the relationship in which knowing how x_i compares to mean(x) gives \n",
    "# us information about how y_i compares to mean(y)  "
   ]
  }
 ],
 "metadata": {
  "kernelspec": {
   "display_name": "Python 3",
   "language": "python",
   "name": "python3"
  },
  "language_info": {
   "codemirror_mode": {
    "name": "ipython",
    "version": 3
   },
   "file_extension": ".py",
   "mimetype": "text/x-python",
   "name": "python",
   "nbconvert_exporter": "python",
   "pygments_lexer": "ipython3",
   "version": "3.6.4"
  }
 },
 "nbformat": 4,
 "nbformat_minor": 2
}
